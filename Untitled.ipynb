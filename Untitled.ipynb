{
 "cells": [
  {
   "cell_type": "code",
   "execution_count": 116,
   "id": "351a512d",
   "metadata": {},
   "outputs": [],
   "source": [
    "import numpy as np\n",
    "import pandas as pd\n",
    "import matplotlib.pyplot as plt\n",
    "import seaborn as sns\n",
    "import tensorflow as tf\n",
    "import ast\n",
    "import keras"
   ]
  },
  {
   "cell_type": "code",
   "execution_count": 13,
   "id": "34ddfed7",
   "metadata": {},
   "outputs": [],
   "source": [
    "df=pd.read_csv('ner.csv')"
   ]
  },
  {
   "cell_type": "code",
   "execution_count": 14,
   "id": "7d1a7034",
   "metadata": {},
   "outputs": [
    {
     "data": {
      "text/html": [
       "<div>\n",
       "<style scoped>\n",
       "    .dataframe tbody tr th:only-of-type {\n",
       "        vertical-align: middle;\n",
       "    }\n",
       "\n",
       "    .dataframe tbody tr th {\n",
       "        vertical-align: top;\n",
       "    }\n",
       "\n",
       "    .dataframe thead th {\n",
       "        text-align: right;\n",
       "    }\n",
       "</style>\n",
       "<table border=\"1\" class=\"dataframe\">\n",
       "  <thead>\n",
       "    <tr style=\"text-align: right;\">\n",
       "      <th></th>\n",
       "      <th>Sentence #</th>\n",
       "      <th>Sentence</th>\n",
       "      <th>POS</th>\n",
       "      <th>Tag</th>\n",
       "    </tr>\n",
       "  </thead>\n",
       "  <tbody>\n",
       "    <tr>\n",
       "      <th>0</th>\n",
       "      <td>Sentence: 1</td>\n",
       "      <td>Thousands of demonstrators have marched throug...</td>\n",
       "      <td>['NNS', 'IN', 'NNS', 'VBP', 'VBN', 'IN', 'NNP'...</td>\n",
       "      <td>['O', 'O', 'O', 'O', 'O', 'O', 'B-geo', 'O', '...</td>\n",
       "    </tr>\n",
       "    <tr>\n",
       "      <th>1</th>\n",
       "      <td>Sentence: 2</td>\n",
       "      <td>Families of soldiers killed in the conflict jo...</td>\n",
       "      <td>['NNS', 'IN', 'NNS', 'VBN', 'IN', 'DT', 'NN', ...</td>\n",
       "      <td>['O', 'O', 'O', 'O', 'O', 'O', 'O', 'O', 'O', ...</td>\n",
       "    </tr>\n",
       "    <tr>\n",
       "      <th>2</th>\n",
       "      <td>Sentence: 3</td>\n",
       "      <td>They marched from the Houses of Parliament to ...</td>\n",
       "      <td>['PRP', 'VBD', 'IN', 'DT', 'NNS', 'IN', 'NN', ...</td>\n",
       "      <td>['O', 'O', 'O', 'O', 'O', 'O', 'O', 'O', 'O', ...</td>\n",
       "    </tr>\n",
       "    <tr>\n",
       "      <th>3</th>\n",
       "      <td>Sentence: 4</td>\n",
       "      <td>Police put the number of marchers at 10,000 wh...</td>\n",
       "      <td>['NNS', 'VBD', 'DT', 'NN', 'IN', 'NNS', 'IN', ...</td>\n",
       "      <td>['O', 'O', 'O', 'O', 'O', 'O', 'O', 'O', 'O', ...</td>\n",
       "    </tr>\n",
       "    <tr>\n",
       "      <th>4</th>\n",
       "      <td>Sentence: 5</td>\n",
       "      <td>The protest comes on the eve of the annual con...</td>\n",
       "      <td>['DT', 'NN', 'VBZ', 'IN', 'DT', 'NN', 'IN', 'D...</td>\n",
       "      <td>['O', 'O', 'O', 'O', 'O', 'O', 'O', 'O', 'O', ...</td>\n",
       "    </tr>\n",
       "  </tbody>\n",
       "</table>\n",
       "</div>"
      ],
      "text/plain": [
       "    Sentence #                                           Sentence  \\\n",
       "0  Sentence: 1  Thousands of demonstrators have marched throug...   \n",
       "1  Sentence: 2  Families of soldiers killed in the conflict jo...   \n",
       "2  Sentence: 3  They marched from the Houses of Parliament to ...   \n",
       "3  Sentence: 4  Police put the number of marchers at 10,000 wh...   \n",
       "4  Sentence: 5  The protest comes on the eve of the annual con...   \n",
       "\n",
       "                                                 POS  \\\n",
       "0  ['NNS', 'IN', 'NNS', 'VBP', 'VBN', 'IN', 'NNP'...   \n",
       "1  ['NNS', 'IN', 'NNS', 'VBN', 'IN', 'DT', 'NN', ...   \n",
       "2  ['PRP', 'VBD', 'IN', 'DT', 'NNS', 'IN', 'NN', ...   \n",
       "3  ['NNS', 'VBD', 'DT', 'NN', 'IN', 'NNS', 'IN', ...   \n",
       "4  ['DT', 'NN', 'VBZ', 'IN', 'DT', 'NN', 'IN', 'D...   \n",
       "\n",
       "                                                 Tag  \n",
       "0  ['O', 'O', 'O', 'O', 'O', 'O', 'B-geo', 'O', '...  \n",
       "1  ['O', 'O', 'O', 'O', 'O', 'O', 'O', 'O', 'O', ...  \n",
       "2  ['O', 'O', 'O', 'O', 'O', 'O', 'O', 'O', 'O', ...  \n",
       "3  ['O', 'O', 'O', 'O', 'O', 'O', 'O', 'O', 'O', ...  \n",
       "4  ['O', 'O', 'O', 'O', 'O', 'O', 'O', 'O', 'O', ...  "
      ]
     },
     "execution_count": 14,
     "metadata": {},
     "output_type": "execute_result"
    }
   ],
   "source": [
    "df.head()"
   ]
  },
  {
   "cell_type": "code",
   "execution_count": 15,
   "id": "9d92be81",
   "metadata": {},
   "outputs": [],
   "source": [
    "def preprocess(data):\n",
    "    for i in range(len(data)):\n",
    "        pos=ast.literal_eval(data['POS'][i])\n",
    "        tag=ast.literal_eval(data['Tag'][i])\n",
    "        data['POS'][i]=[word for word in pos]\n",
    "        data['Tag'][i]=[word for word in tag]\n",
    "    return data"
   ]
  },
  {
   "cell_type": "code",
   "execution_count": 16,
   "id": "70ada7ca",
   "metadata": {},
   "outputs": [],
   "source": [
    "df=preprocess(df)"
   ]
  },
  {
   "cell_type": "code",
   "execution_count": 17,
   "id": "03750f02",
   "metadata": {},
   "outputs": [
    {
     "data": {
      "text/html": [
       "<div>\n",
       "<style scoped>\n",
       "    .dataframe tbody tr th:only-of-type {\n",
       "        vertical-align: middle;\n",
       "    }\n",
       "\n",
       "    .dataframe tbody tr th {\n",
       "        vertical-align: top;\n",
       "    }\n",
       "\n",
       "    .dataframe thead th {\n",
       "        text-align: right;\n",
       "    }\n",
       "</style>\n",
       "<table border=\"1\" class=\"dataframe\">\n",
       "  <thead>\n",
       "    <tr style=\"text-align: right;\">\n",
       "      <th></th>\n",
       "      <th>Sentence #</th>\n",
       "      <th>Sentence</th>\n",
       "      <th>POS</th>\n",
       "      <th>Tag</th>\n",
       "    </tr>\n",
       "  </thead>\n",
       "  <tbody>\n",
       "    <tr>\n",
       "      <th>0</th>\n",
       "      <td>Sentence: 1</td>\n",
       "      <td>Thousands of demonstrators have marched throug...</td>\n",
       "      <td>[NNS, IN, NNS, VBP, VBN, IN, NNP, TO, VB, DT, ...</td>\n",
       "      <td>[O, O, O, O, O, O, B-geo, O, O, O, O, O, B-geo...</td>\n",
       "    </tr>\n",
       "    <tr>\n",
       "      <th>1</th>\n",
       "      <td>Sentence: 2</td>\n",
       "      <td>Families of soldiers killed in the conflict jo...</td>\n",
       "      <td>[NNS, IN, NNS, VBN, IN, DT, NN, VBD, DT, NNS, ...</td>\n",
       "      <td>[O, O, O, O, O, O, O, O, O, O, O, O, O, O, O, ...</td>\n",
       "    </tr>\n",
       "    <tr>\n",
       "      <th>2</th>\n",
       "      <td>Sentence: 3</td>\n",
       "      <td>They marched from the Houses of Parliament to ...</td>\n",
       "      <td>[PRP, VBD, IN, DT, NNS, IN, NN, TO, DT, NN, IN...</td>\n",
       "      <td>[O, O, O, O, O, O, O, O, O, O, O, B-geo, I-geo...</td>\n",
       "    </tr>\n",
       "    <tr>\n",
       "      <th>3</th>\n",
       "      <td>Sentence: 4</td>\n",
       "      <td>Police put the number of marchers at 10,000 wh...</td>\n",
       "      <td>[NNS, VBD, DT, NN, IN, NNS, IN, CD, IN, NNS, V...</td>\n",
       "      <td>[O, O, O, O, O, O, O, O, O, O, O, O, O, O, O]</td>\n",
       "    </tr>\n",
       "    <tr>\n",
       "      <th>4</th>\n",
       "      <td>Sentence: 5</td>\n",
       "      <td>The protest comes on the eve of the annual con...</td>\n",
       "      <td>[DT, NN, VBZ, IN, DT, NN, IN, DT, JJ, NN, IN, ...</td>\n",
       "      <td>[O, O, O, O, O, O, O, O, O, O, O, B-geo, O, O,...</td>\n",
       "    </tr>\n",
       "  </tbody>\n",
       "</table>\n",
       "</div>"
      ],
      "text/plain": [
       "    Sentence #                                           Sentence  \\\n",
       "0  Sentence: 1  Thousands of demonstrators have marched throug...   \n",
       "1  Sentence: 2  Families of soldiers killed in the conflict jo...   \n",
       "2  Sentence: 3  They marched from the Houses of Parliament to ...   \n",
       "3  Sentence: 4  Police put the number of marchers at 10,000 wh...   \n",
       "4  Sentence: 5  The protest comes on the eve of the annual con...   \n",
       "\n",
       "                                                 POS  \\\n",
       "0  [NNS, IN, NNS, VBP, VBN, IN, NNP, TO, VB, DT, ...   \n",
       "1  [NNS, IN, NNS, VBN, IN, DT, NN, VBD, DT, NNS, ...   \n",
       "2  [PRP, VBD, IN, DT, NNS, IN, NN, TO, DT, NN, IN...   \n",
       "3  [NNS, VBD, DT, NN, IN, NNS, IN, CD, IN, NNS, V...   \n",
       "4  [DT, NN, VBZ, IN, DT, NN, IN, DT, JJ, NN, IN, ...   \n",
       "\n",
       "                                                 Tag  \n",
       "0  [O, O, O, O, O, O, B-geo, O, O, O, O, O, B-geo...  \n",
       "1  [O, O, O, O, O, O, O, O, O, O, O, O, O, O, O, ...  \n",
       "2  [O, O, O, O, O, O, O, O, O, O, O, B-geo, I-geo...  \n",
       "3      [O, O, O, O, O, O, O, O, O, O, O, O, O, O, O]  \n",
       "4  [O, O, O, O, O, O, O, O, O, O, O, B-geo, O, O,...  "
      ]
     },
     "execution_count": 17,
     "metadata": {},
     "output_type": "execute_result"
    }
   ],
   "source": [
    "df.head()"
   ]
  },
  {
   "cell_type": "code",
   "execution_count": 18,
   "id": "75463859",
   "metadata": {},
   "outputs": [
    {
     "data": {
      "text/plain": [
       "(47959, 4)"
      ]
     },
     "execution_count": 18,
     "metadata": {},
     "output_type": "execute_result"
    }
   ],
   "source": [
    "df.shape"
   ]
  },
  {
   "cell_type": "code",
   "execution_count": 19,
   "id": "0a2b78d1",
   "metadata": {},
   "outputs": [
    {
     "name": "stdout",
     "output_type": "stream",
     "text": [
      "<class 'pandas.core.frame.DataFrame'>\n",
      "RangeIndex: 47959 entries, 0 to 47958\n",
      "Data columns (total 4 columns):\n",
      " #   Column      Non-Null Count  Dtype \n",
      "---  ------      --------------  ----- \n",
      " 0   Sentence #  47959 non-null  object\n",
      " 1   Sentence    47959 non-null  object\n",
      " 2   POS         47959 non-null  object\n",
      " 3   Tag         47959 non-null  object\n",
      "dtypes: object(4)\n",
      "memory usage: 1.5+ MB\n"
     ]
    }
   ],
   "source": [
    "df.info()"
   ]
  },
  {
   "cell_type": "code",
   "execution_count": 24,
   "id": "4b995bc8",
   "metadata": {},
   "outputs": [],
   "source": [
    "def calculate_len(data):\n",
    "    sent_len=[]\n",
    "    pos_len=[]\n",
    "    tag_len=[]\n",
    "    for i in range(len(data)):\n",
    "        word=data['Sentence'][i].split(' ')\n",
    "        sent_len.append(len(word))\n",
    "        pos_len.append(len(data['POS'][i]))\n",
    "        tag_len.append(len(data['Tag'][i]))\n",
    "    data['sent_len']=sent_len\n",
    "    data['pos_len']=pos_len\n",
    "    data['tag_len']=tag_len\n",
    "    return data"
   ]
  },
  {
   "cell_type": "code",
   "execution_count": 26,
   "id": "103bbff7",
   "metadata": {},
   "outputs": [],
   "source": [
    "df=calculate_len(df)"
   ]
  },
  {
   "cell_type": "code",
   "execution_count": 27,
   "id": "dabf7663",
   "metadata": {},
   "outputs": [
    {
     "data": {
      "text/html": [
       "<div>\n",
       "<style scoped>\n",
       "    .dataframe tbody tr th:only-of-type {\n",
       "        vertical-align: middle;\n",
       "    }\n",
       "\n",
       "    .dataframe tbody tr th {\n",
       "        vertical-align: top;\n",
       "    }\n",
       "\n",
       "    .dataframe thead th {\n",
       "        text-align: right;\n",
       "    }\n",
       "</style>\n",
       "<table border=\"1\" class=\"dataframe\">\n",
       "  <thead>\n",
       "    <tr style=\"text-align: right;\">\n",
       "      <th></th>\n",
       "      <th>Sentence #</th>\n",
       "      <th>Sentence</th>\n",
       "      <th>POS</th>\n",
       "      <th>Tag</th>\n",
       "      <th>sent_len</th>\n",
       "      <th>pos_len</th>\n",
       "      <th>tag_len</th>\n",
       "    </tr>\n",
       "  </thead>\n",
       "  <tbody>\n",
       "    <tr>\n",
       "      <th>0</th>\n",
       "      <td>Sentence: 1</td>\n",
       "      <td>Thousands of demonstrators have marched throug...</td>\n",
       "      <td>[NNS, IN, NNS, VBP, VBN, IN, NNP, TO, VB, DT, ...</td>\n",
       "      <td>[O, O, O, O, O, O, B-geo, O, O, O, O, O, B-geo...</td>\n",
       "      <td>24</td>\n",
       "      <td>24</td>\n",
       "      <td>24</td>\n",
       "    </tr>\n",
       "    <tr>\n",
       "      <th>1</th>\n",
       "      <td>Sentence: 2</td>\n",
       "      <td>Families of soldiers killed in the conflict jo...</td>\n",
       "      <td>[NNS, IN, NNS, VBN, IN, DT, NN, VBD, DT, NNS, ...</td>\n",
       "      <td>[O, O, O, O, O, O, O, O, O, O, O, O, O, O, O, ...</td>\n",
       "      <td>30</td>\n",
       "      <td>30</td>\n",
       "      <td>30</td>\n",
       "    </tr>\n",
       "    <tr>\n",
       "      <th>2</th>\n",
       "      <td>Sentence: 3</td>\n",
       "      <td>They marched from the Houses of Parliament to ...</td>\n",
       "      <td>[PRP, VBD, IN, DT, NNS, IN, NN, TO, DT, NN, IN...</td>\n",
       "      <td>[O, O, O, O, O, O, O, O, O, O, O, B-geo, I-geo...</td>\n",
       "      <td>14</td>\n",
       "      <td>14</td>\n",
       "      <td>14</td>\n",
       "    </tr>\n",
       "    <tr>\n",
       "      <th>3</th>\n",
       "      <td>Sentence: 4</td>\n",
       "      <td>Police put the number of marchers at 10,000 wh...</td>\n",
       "      <td>[NNS, VBD, DT, NN, IN, NNS, IN, CD, IN, NNS, V...</td>\n",
       "      <td>[O, O, O, O, O, O, O, O, O, O, O, O, O, O, O]</td>\n",
       "      <td>15</td>\n",
       "      <td>15</td>\n",
       "      <td>15</td>\n",
       "    </tr>\n",
       "    <tr>\n",
       "      <th>4</th>\n",
       "      <td>Sentence: 5</td>\n",
       "      <td>The protest comes on the eve of the annual con...</td>\n",
       "      <td>[DT, NN, VBZ, IN, DT, NN, IN, DT, JJ, NN, IN, ...</td>\n",
       "      <td>[O, O, O, O, O, O, O, O, O, O, O, B-geo, O, O,...</td>\n",
       "      <td>25</td>\n",
       "      <td>25</td>\n",
       "      <td>25</td>\n",
       "    </tr>\n",
       "  </tbody>\n",
       "</table>\n",
       "</div>"
      ],
      "text/plain": [
       "    Sentence #                                           Sentence  \\\n",
       "0  Sentence: 1  Thousands of demonstrators have marched throug...   \n",
       "1  Sentence: 2  Families of soldiers killed in the conflict jo...   \n",
       "2  Sentence: 3  They marched from the Houses of Parliament to ...   \n",
       "3  Sentence: 4  Police put the number of marchers at 10,000 wh...   \n",
       "4  Sentence: 5  The protest comes on the eve of the annual con...   \n",
       "\n",
       "                                                 POS  \\\n",
       "0  [NNS, IN, NNS, VBP, VBN, IN, NNP, TO, VB, DT, ...   \n",
       "1  [NNS, IN, NNS, VBN, IN, DT, NN, VBD, DT, NNS, ...   \n",
       "2  [PRP, VBD, IN, DT, NNS, IN, NN, TO, DT, NN, IN...   \n",
       "3  [NNS, VBD, DT, NN, IN, NNS, IN, CD, IN, NNS, V...   \n",
       "4  [DT, NN, VBZ, IN, DT, NN, IN, DT, JJ, NN, IN, ...   \n",
       "\n",
       "                                                 Tag  sent_len  pos_len  \\\n",
       "0  [O, O, O, O, O, O, B-geo, O, O, O, O, O, B-geo...        24       24   \n",
       "1  [O, O, O, O, O, O, O, O, O, O, O, O, O, O, O, ...        30       30   \n",
       "2  [O, O, O, O, O, O, O, O, O, O, O, B-geo, I-geo...        14       14   \n",
       "3      [O, O, O, O, O, O, O, O, O, O, O, O, O, O, O]        15       15   \n",
       "4  [O, O, O, O, O, O, O, O, O, O, O, B-geo, O, O,...        25       25   \n",
       "\n",
       "   tag_len  \n",
       "0       24  \n",
       "1       30  \n",
       "2       14  \n",
       "3       15  \n",
       "4       25  "
      ]
     },
     "execution_count": 27,
     "metadata": {},
     "output_type": "execute_result"
    }
   ],
   "source": [
    "df.head()"
   ]
  },
  {
   "cell_type": "code",
   "execution_count": 30,
   "id": "5b27b32b",
   "metadata": {},
   "outputs": [
    {
     "data": {
      "text/plain": [
       "<seaborn.axisgrid.FacetGrid at 0x111d851a130>"
      ]
     },
     "execution_count": 30,
     "metadata": {},
     "output_type": "execute_result"
    },
    {
     "data": {
      "image/png": "[encoded data removed]",
      "text/plain": [
       "<Figure size 500x500 with 1 Axes>"
      ]
     },
     "metadata": {},
     "output_type": "display_data"
    }
   ],
   "source": [
    "sns.displot(df['sent_len'],kde=True)"
   ]
  },
  {
   "cell_type": "code",
   "execution_count": 34,
   "id": "61be78e2",
   "metadata": {},
   "outputs": [],
   "source": [
    "from sklearn.model_selection import train_test_split\n",
    "from tensorflow.keras.preprocessing.text import Tokenizer\n",
    "from tensorflow.keras.preprocessing.sequence import pad_sequences\n",
    "from tensorflow.keras.layers import Dense,Bidirectional,LSTM,Embedding\n",
    "from tensorflow.keras.models import Sequential"
   ]
  },
  {
   "cell_type": "code",
   "execution_count": 36,
   "id": "39c61496",
   "metadata": {},
   "outputs": [],
   "source": [
    "df_final = df[['Sentence','Tag']]"
   ]
  },
  {
   "cell_type": "code",
   "execution_count": 37,
   "id": "8744fa00",
   "metadata": {},
   "outputs": [
    {
     "data": {
      "text/html": [
       "<div>\n",
       "<style scoped>\n",
       "    .dataframe tbody tr th:only-of-type {\n",
       "        vertical-align: middle;\n",
       "    }\n",
       "\n",
       "    .dataframe tbody tr th {\n",
       "        vertical-align: top;\n",
       "    }\n",
       "\n",
       "    .dataframe thead th {\n",
       "        text-align: right;\n",
       "    }\n",
       "</style>\n",
       "<table border=\"1\" class=\"dataframe\">\n",
       "  <thead>\n",
       "    <tr style=\"text-align: right;\">\n",
       "      <th></th>\n",
       "      <th>Sentence</th>\n",
       "      <th>Tag</th>\n",
       "    </tr>\n",
       "  </thead>\n",
       "  <tbody>\n",
       "    <tr>\n",
       "      <th>0</th>\n",
       "      <td>Thousands of demonstrators have marched throug...</td>\n",
       "      <td>[O, O, O, O, O, O, B-geo, O, O, O, O, O, B-geo...</td>\n",
       "    </tr>\n",
       "    <tr>\n",
       "      <th>1</th>\n",
       "      <td>Families of soldiers killed in the conflict jo...</td>\n",
       "      <td>[O, O, O, O, O, O, O, O, O, O, O, O, O, O, O, ...</td>\n",
       "    </tr>\n",
       "    <tr>\n",
       "      <th>2</th>\n",
       "      <td>They marched from the Houses of Parliament to ...</td>\n",
       "      <td>[O, O, O, O, O, O, O, O, O, O, O, B-geo, I-geo...</td>\n",
       "    </tr>\n",
       "    <tr>\n",
       "      <th>3</th>\n",
       "      <td>Police put the number of marchers at 10,000 wh...</td>\n",
       "      <td>[O, O, O, O, O, O, O, O, O, O, O, O, O, O, O]</td>\n",
       "    </tr>\n",
       "    <tr>\n",
       "      <th>4</th>\n",
       "      <td>The protest comes on the eve of the annual con...</td>\n",
       "      <td>[O, O, O, O, O, O, O, O, O, O, O, B-geo, O, O,...</td>\n",
       "    </tr>\n",
       "    <tr>\n",
       "      <th>...</th>\n",
       "      <td>...</td>\n",
       "      <td>...</td>\n",
       "    </tr>\n",
       "    <tr>\n",
       "      <th>47954</th>\n",
       "      <td>Indian border security forces are accusing the...</td>\n",
       "      <td>[B-gpe, O, O, O, O, O, O, B-gpe, O, O, O, O, O...</td>\n",
       "    </tr>\n",
       "    <tr>\n",
       "      <th>47955</th>\n",
       "      <td>Indian officials said no one was injured in Sa...</td>\n",
       "      <td>[B-gpe, O, O, O, O, O, O, O, B-tim, O, O, O, O...</td>\n",
       "    </tr>\n",
       "    <tr>\n",
       "      <th>47956</th>\n",
       "      <td>Two more landed in fields belonging to a nearb...</td>\n",
       "      <td>[O, O, O, O, O, O, O, O, O, O, O]</td>\n",
       "    </tr>\n",
       "    <tr>\n",
       "      <th>47957</th>\n",
       "      <td>They say not all of the rockets exploded upon ...</td>\n",
       "      <td>[O, O, O, O, O, O, O, O, O, O, O]</td>\n",
       "    </tr>\n",
       "    <tr>\n",
       "      <th>47958</th>\n",
       "      <td>Indian forces said they responded to the attack</td>\n",
       "      <td>[B-gpe, O, O, O, O, O, O, O]</td>\n",
       "    </tr>\n",
       "  </tbody>\n",
       "</table>\n",
       "<p>47959 rows × 2 columns</p>\n",
       "</div>"
      ],
      "text/plain": [
       "                                                Sentence  \\\n",
       "0      Thousands of demonstrators have marched throug...   \n",
       "1      Families of soldiers killed in the conflict jo...   \n",
       "2      They marched from the Houses of Parliament to ...   \n",
       "3      Police put the number of marchers at 10,000 wh...   \n",
       "4      The protest comes on the eve of the annual con...   \n",
       "...                                                  ...   \n",
       "47954  Indian border security forces are accusing the...   \n",
       "47955  Indian officials said no one was injured in Sa...   \n",
       "47956  Two more landed in fields belonging to a nearb...   \n",
       "47957  They say not all of the rockets exploded upon ...   \n",
       "47958    Indian forces said they responded to the attack   \n",
       "\n",
       "                                                     Tag  \n",
       "0      [O, O, O, O, O, O, B-geo, O, O, O, O, O, B-geo...  \n",
       "1      [O, O, O, O, O, O, O, O, O, O, O, O, O, O, O, ...  \n",
       "2      [O, O, O, O, O, O, O, O, O, O, O, B-geo, I-geo...  \n",
       "3          [O, O, O, O, O, O, O, O, O, O, O, O, O, O, O]  \n",
       "4      [O, O, O, O, O, O, O, O, O, O, O, B-geo, O, O,...  \n",
       "...                                                  ...  \n",
       "47954  [B-gpe, O, O, O, O, O, O, B-gpe, O, O, O, O, O...  \n",
       "47955  [B-gpe, O, O, O, O, O, O, O, B-tim, O, O, O, O...  \n",
       "47956                  [O, O, O, O, O, O, O, O, O, O, O]  \n",
       "47957                  [O, O, O, O, O, O, O, O, O, O, O]  \n",
       "47958                       [B-gpe, O, O, O, O, O, O, O]  \n",
       "\n",
       "[47959 rows x 2 columns]"
      ]
     },
     "execution_count": 37,
     "metadata": {},
     "output_type": "execute_result"
    }
   ],
   "source": [
    "df_final"
   ]
  },
  {
   "cell_type": "code",
   "execution_count": 38,
   "id": "a13bbbde",
   "metadata": {},
   "outputs": [
    {
     "data": {
      "text/plain": [
       "(38367, 9592)"
      ]
     },
     "execution_count": 38,
     "metadata": {},
     "output_type": "execute_result"
    }
   ],
   "source": [
    "df_train,df_test = train_test_split(df_final,test_size=0.2,random_state=42)\n",
    "len(df_train),len(df_test)"
   ]
  },
  {
   "cell_type": "code",
   "execution_count": 39,
   "id": "295d3f28",
   "metadata": {},
   "outputs": [],
   "source": [
    "train_targets=list(df_train.Tag.values)\n",
    "test_targets=list(df_test.Tag.values)"
   ]
  },
  {
   "cell_type": "code",
   "execution_count": 52,
   "id": "13682578",
   "metadata": {},
   "outputs": [],
   "source": [
    "tokenizer=Tokenizer(lower=False,oov_token='<UNK>')"
   ]
  },
  {
   "cell_type": "code",
   "execution_count": 53,
   "id": "fe42eba6",
   "metadata": {},
   "outputs": [],
   "source": [
    "tokenizer.fit_on_texts(df_train['Sentence'])"
   ]
  },
  {
   "cell_type": "code",
   "execution_count": 54,
   "id": "98f5e37e",
   "metadata": {},
   "outputs": [],
   "source": [
    "word2idx=tokenizer.word_index"
   ]
  },
  {
   "cell_type": "code",
   "execution_count": 55,
   "id": "99fc5f0c",
   "metadata": {},
   "outputs": [
    {
     "data": {
      "text/plain": [
       "28761"
      ]
     },
     "execution_count": 55,
     "metadata": {},
     "output_type": "execute_result"
    }
   ],
   "source": [
    "len(word2idx)"
   ]
  },
  {
   "cell_type": "code",
   "execution_count": 56,
   "id": "0f696f39",
   "metadata": {},
   "outputs": [],
   "source": [
    "train_inputs=tokenizer.texts_to_sequences(df_train['Sentence'])\n",
    "test_inputs=tokenizer.texts_to_sequences(df_test['Sentence'])"
   ]
  },
  {
   "cell_type": "code",
   "execution_count": 59,
   "id": "02f15f98",
   "metadata": {},
   "outputs": [],
   "source": [
    "v=[len(v) for v in train_inputs]"
   ]
  },
  {
   "cell_type": "code",
   "execution_count": 72,
   "id": "ce8a6b06",
   "metadata": {},
   "outputs": [
    {
     "name": "stdout",
     "output_type": "stream",
     "text": [
      "Unique NER tags in train set:  {'B-art', 'B-geo', 'I-gpe', 'I-eve', 'I-geo', 'I-org', 'O', 'B-org', 'I-tim', 'B-nat', 'B-per', 'B-eve', 'B-gpe', 'I-per', 'I-nat', 'I-art', 'B-tim'}\n",
      "Unique NER tags in test set:  {'B-art', 'B-geo', 'I-gpe', 'I-eve', 'I-geo', 'I-org', 'O', 'B-org', 'I-tim', 'B-nat', 'B-per', 'B-eve', 'B-gpe', 'I-per', 'I-nat', 'I-art', 'B-tim'}\n"
     ]
    }
   ],
   "source": [
    "train_tags = set([val for sublist in train_targets for val in sublist])\n",
    "test_tags = set([val for sublist in test_targets for val in sublist])\n",
    "\n",
    "print(\"Unique NER tags in train set: \",train_tags)\n",
    "print(\"Unique NER tags in test set: \",test_tags)\n"
   ]
  },
  {
   "cell_type": "code",
   "execution_count": 73,
   "id": "63a4bfd6",
   "metadata": {},
   "outputs": [],
   "source": [
    "tag_tokenizer = Tokenizer()\n",
    "tag_tokenizer.fit_on_texts(train_targets)\n",
    "train_tgt_int = tag_tokenizer.texts_to_sequences(train_targets)\n",
    "test_tgt_int = tag_tokenizer.texts_to_sequences(test_targets)"
   ]
  },
  {
   "cell_type": "code",
   "execution_count": 74,
   "id": "503d9b4e",
   "metadata": {},
   "outputs": [
    {
     "name": "stdout",
     "output_type": "stream",
     "text": [
      "Shape of train inputs:  (38367, 89)\n",
      "Shape of test inputs:  (9592, 89)\n",
      "Shape of train targets:  (38367, 89)\n",
      "Shape of test targets:  (9592, 89)\n"
     ]
    }
   ],
   "source": [
    "# Max length\n",
    "max_length_train = max(len(sent) for sent in train_inputs)\n",
    "max_length_test = max(len(sent) for sent in test_inputs)\n",
    "max_length = max(max_length_train,max_length_test)\n",
    "\n",
    "# Pad input sequences\n",
    "train_inputs_final = pad_sequences(train_inputs,maxlen=max_length,padding=\"post\")\n",
    "print(\"Shape of train inputs: \",train_inputs_final.shape)\n",
    "\n",
    "test_inputs_final = pad_sequences(test_inputs,maxlen=max_length,padding=\"post\")\n",
    "print(\"Shape of test inputs: \",test_inputs_final.shape)\n",
    "\n",
    "train_targets_final = pad_sequences(train_tgt_int,maxlen=max_length,padding=\"post\")\n",
    "print(\"Shape of train targets: \",train_targets_final.shape)\n",
    "\n",
    "test_targets_final = pad_sequences(test_tgt_int,maxlen=max_length,padding=\"post\")\n",
    "print(\"Shape of test targets: \",test_targets_final.shape)"
   ]
  },
  {
   "cell_type": "code",
   "execution_count": 117,
   "id": "db31ecd7",
   "metadata": {},
   "outputs": [],
   "source": [
    "label_mapping=tag_tokenizer.index_word"
   ]
  },
  {
   "cell_type": "code",
   "execution_count": 175,
   "id": "89469aa0",
   "metadata": {},
   "outputs": [],
   "source": [
    "label_mapping=list(label_mapping.values())"
   ]
  },
  {
   "cell_type": "code",
   "execution_count": null,
   "id": "9bd3cf48",
   "metadata": {},
   "outputs": [],
   "source": []
  },
  {
   "cell_type": "code",
   "execution_count": 198,
   "id": "26b85fd2",
   "metadata": {},
   "outputs": [],
   "source": [
    "num_classes=len(tag_tokenizer.word_index)+1"
   ]
  },
  {
   "cell_type": "code",
   "execution_count": 199,
   "id": "fbd0904e",
   "metadata": {},
   "outputs": [
    {
     "data": {
      "text/plain": [
       "18"
      ]
     },
     "execution_count": 199,
     "metadata": {},
     "output_type": "execute_result"
    }
   ],
   "source": [
    "num_classes"
   ]
  },
  {
   "cell_type": "code",
   "execution_count": 208,
   "id": "59686217",
   "metadata": {},
   "outputs": [],
   "source": [
    "model=Sequential()\n",
    "model.add(Embedding(input_dim=len(word2idx)+1,output_dim=32,input_length=max_length,mask_zero=True))\n",
    "model.add(Bidirectional(LSTM(94,return_sequences=True)))\n",
    "model.add(Dense(num_classes,activation=None))"
   ]
  },
  {
   "cell_type": "code",
   "execution_count": 209,
   "id": "c8e949b8",
   "metadata": {},
   "outputs": [
    {
     "name": "stdout",
     "output_type": "stream",
     "text": [
      "Model: \"sequential_17\"\n",
      "_________________________________________________________________\n",
      " Layer (type)                Output Shape              Param #   \n",
      "=================================================================\n",
      " embedding_17 (Embedding)    (None, 89, 32)            920384    \n",
      "                                                                 \n",
      " bidirectional_17 (Bidirecti  (None, 89, 188)          95504     \n",
      " onal)                                                           \n",
      "                                                                 \n",
      " dense_17 (Dense)            (None, 89, 18)            3402      \n",
      "                                                                 \n",
      "=================================================================\n",
      "Total params: 1,019,290\n",
      "Trainable params: 1,019,290\n",
      "Non-trainable params: 0\n",
      "_________________________________________________________________\n"
     ]
    }
   ],
   "source": [
    "model.summary()"
   ]
  },
  {
   "cell_type": "code",
   "execution_count": 210,
   "id": "6f528083",
   "metadata": {},
   "outputs": [],
   "source": [
    "model.compile(loss=tf.keras.losses.SparseCategoricalCrossentropy(from_logits=True),optimizer='adam',metrics=['accuracy'])"
   ]
  },
  {
   "cell_type": "code",
   "execution_count": 211,
   "id": "285324d4",
   "metadata": {},
   "outputs": [
    {
     "name": "stdout",
     "output_type": "stream",
     "text": [
      "Epoch 1/6\n",
      "1199/1199 [==============================] - 30s 20ms/step - loss: 0.1332 - accuracy: 0.8573 - val_loss: 0.0885 - val_accuracy: 0.8839\n",
      "Epoch 2/6\n",
      "1199/1199 [==============================] - 22s 18ms/step - loss: 0.0751 - accuracy: 0.8963 - val_loss: 0.0724 - val_accuracy: 0.9013\n",
      "Epoch 3/6\n",
      "1199/1199 [==============================] - 22s 18ms/step - loss: 0.0597 - accuracy: 0.9134 - val_loss: 0.0669 - val_accuracy: 0.9079\n",
      "Epoch 4/6\n",
      "1199/1199 [==============================] - 23s 19ms/step - loss: 0.0508 - accuracy: 0.9248 - val_loss: 0.0664 - val_accuracy: 0.9105\n",
      "Epoch 5/6\n",
      "1199/1199 [==============================] - 23s 19ms/step - loss: 0.0444 - accuracy: 0.9337 - val_loss: 0.0657 - val_accuracy: 0.9113\n",
      "Epoch 6/6\n",
      "1199/1199 [==============================] - 24s 20ms/step - loss: 0.0393 - accuracy: 0.9417 - val_loss: 0.0675 - val_accuracy: 0.9099\n"
     ]
    }
   ],
   "source": [
    "history=model.fit(\n",
    "    train_inputs_final,\n",
    "    train_targets_final,\n",
    "    epochs=6,\n",
    "    validation_data=(test_inputs_final, test_targets_final)\n",
    ")\n"
   ]
  },
  {
   "cell_type": "code",
   "execution_count": 227,
   "id": "57669f6d",
   "metadata": {},
   "outputs": [
    {
     "name": "stdout",
     "output_type": "stream",
     "text": [
      "1/1 [==============================] - 0s 16ms/step\n"
     ]
    },
    {
     "data": {
      "text/plain": [
       "array([[[-7.41329575e+00, -4.91862178e-01,  1.90089059e+00, ...,\n",
       "         -7.67668962e-01, -1.02906024e+00, -1.63061655e+00],\n",
       "        [-7.45552349e+00,  7.62992096e+00, -1.90236962e+00, ...,\n",
       "         -2.08698583e+00, -1.42713404e+00, -1.71795702e+00],\n",
       "        [-7.67629051e+00,  1.20467415e+01, -3.62237430e+00, ...,\n",
       "         -5.12559175e+00, -1.76725221e+00, -2.44564366e+00],\n",
       "        ...,\n",
       "        [-1.12929363e-02,  1.94700316e-01,  9.87020954e-02, ...,\n",
       "         -1.86697736e-01, -9.58593413e-02, -7.89125934e-02],\n",
       "        [-1.12929363e-02,  1.94700316e-01,  9.87020954e-02, ...,\n",
       "         -1.86697736e-01, -9.58593413e-02, -7.89125934e-02],\n",
       "        [-1.12929363e-02,  1.94700316e-01,  9.87020954e-02, ...,\n",
       "         -1.86697736e-01, -9.58593413e-02, -7.89125934e-02]]],\n",
       "      dtype=float32)"
      ]
     },
     "execution_count": 227,
     "metadata": {},
     "output_type": "execute_result"
    }
   ],
   "source": [
    "sentence = \"John is a cricketer who plays for India and Banglore\"\n",
    "predictions = model.predict(pad_sequences(tokenizer.texts_to_sequences([sentence]),\n",
    "                                          maxlen=max_length,\n",
    "                                         padding=\"post\"))\n",
    "predictions"
   ]
  },
  {
   "cell_type": "code",
   "execution_count": 228,
   "id": "e23d94be",
   "metadata": {},
   "outputs": [
    {
     "data": {
      "text/plain": [
       "array([[6, 1, 1, 1, 1, 1, 1, 2, 1, 2, 1, 1, 1, 1, 1, 1, 1, 1, 1, 1, 1, 1,\n",
       "        1, 1, 1, 1, 1, 1, 1, 1, 1, 1, 1, 1, 1, 1, 1, 1, 1, 1, 1, 1, 1, 1,\n",
       "        1, 1, 1, 1, 1, 1, 1, 1, 1, 1, 1, 1, 1, 1, 1, 1, 1, 1, 1, 1, 1, 1,\n",
       "        1, 1, 1, 1, 1, 1, 1, 1, 1, 1, 1, 1, 1, 1, 1, 1, 1, 1, 1, 1, 1, 1,\n",
       "        1]], dtype=int64)"
      ]
     },
     "execution_count": 228,
     "metadata": {},
     "output_type": "execute_result"
    }
   ],
   "source": [
    "prediction_ner = np.argmax(predictions,axis=-1)\n",
    "prediction_ner"
   ]
  },
  {
   "cell_type": "code",
   "execution_count": 229,
   "id": "91784bc0",
   "metadata": {},
   "outputs": [
    {
     "data": {
      "text/plain": [
       "['b-per', 'o', 'o', 'o', 'o', 'o', 'o', 'b-geo', 'o', 'b-geo']"
      ]
     },
     "execution_count": 229,
     "metadata": {},
     "output_type": "execute_result"
    }
   ],
   "source": [
    "NER_tags = [tag_tokenizer.index_word[num] for num in list(prediction_ner.flatten())]\n",
    "NER_tags[0:len(sentence.split(' '))]"
   ]
  },
  {
   "cell_type": "code",
   "execution_count": 230,
   "id": "27fc976c",
   "metadata": {},
   "outputs": [
    {
     "data": {
      "text/plain": [
       "'John is a cricketer who plays for India and Banglore'"
      ]
     },
     "execution_count": 230,
     "metadata": {},
     "output_type": "execute_result"
    }
   ],
   "source": [
    "sentence"
   ]
  },
  {
   "cell_type": "code",
   "execution_count": null,
   "id": "0ec2e5d1",
   "metadata": {},
   "outputs": [],
   "source": []
  }
 ],
 "metadata": {
  "kernelspec": {
   "display_name": "Python 3 (ipykernel)",
   "language": "python",
   "name": "python3"
  },
  "language_info": {
   "codemirror_mode": {
    "name": "ipython",
    "version": 3
   },
   "file_extension": ".py",
   "mimetype": "text/x-python",
   "name": "python",
   "nbconvert_exporter": "python",
   "pygments_lexer": "ipython3",
   "version": "3.9.18"
  }
 },
 "nbformat": 4,
 "nbformat_minor": 5
}
